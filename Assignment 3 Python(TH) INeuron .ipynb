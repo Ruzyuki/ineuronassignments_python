{
 "cells": [
  {
   "cell_type": "code",
   "execution_count": null,
   "id": "290cf624",
   "metadata": {},
   "outputs": [],
   "source": [
    "Q1. Why are functions advantageous to have in your programs?\n",
    "\n",
    "Ans:- Functions are advantageous to have in our program as reduces the duplication of code. It makes our program easier to \n",
    "      read and it also makes update operations easier. It also helps to make our program short."
   ]
  },
  {
   "cell_type": "code",
   "execution_count": null,
   "id": "5a05b8ac",
   "metadata": {},
   "outputs": [],
   "source": [
    "Q2. When does the code in a function run: when it is specified or when it is called?\n",
    "    \n",
    "Ans:- The code in a function runs when the function is called."
   ]
  },
  {
   "cell_type": "code",
   "execution_count": null,
   "id": "b1be00bc",
   "metadata": {},
   "outputs": [],
   "source": [
    "Q3. What statement creates a function?\n",
    "\n",
    "Ans:- The def statement creates a function. "
   ]
  },
  {
   "cell_type": "code",
   "execution_count": null,
   "id": "86be4647",
   "metadata": {},
   "outputs": [],
   "source": [
    "Q4. What is the difference between a function and a function call? \n",
    "\n",
    "Ans:- A function consists of the def statement and the code in its def clause. \n",
    "      A function call is what moves the program execution into the function, and the  function call evaluates to the \n",
    "      function's return value."
   ]
  },
  {
   "cell_type": "code",
   "execution_count": null,
   "id": "828c6ee7",
   "metadata": {},
   "outputs": [],
   "source": [
    "Q5. How many global scopes are there in a Python program? How many local scopes? \n",
    "\n",
    "Ans:- There is only one global Python scope per program execution. A local scope is created whenever a function is called."
   ]
  },
  {
   "cell_type": "code",
   "execution_count": null,
   "id": "cf0ed26f",
   "metadata": {},
   "outputs": [],
   "source": [
    "Q6. What happens to variables in a local scope when the function call returns?\n",
    "\n",
    "Ans:- When a function returns, the local scope  is destroyed and all the variables in it are forgotten. "
   ]
  },
  {
   "cell_type": "code",
   "execution_count": null,
   "id": "c9a3ca7d",
   "metadata": {},
   "outputs": [],
   "source": [
    "Q7. What is the concept of a return value? Is it possible to have a return value in an expression? \n",
    "\n",
    "Ans:- A return value is a value that a function call evaluates to.\n",
    "      Yes, like any value, a return value can be used as a part of an expression. "
   ]
  },
  {
   "cell_type": "code",
   "execution_count": null,
   "id": "0fc404a9",
   "metadata": {},
   "outputs": [],
   "source": [
    "Q8. If a function does not have a return statement, what is the return value of a call to that function?  \n",
    "\n",
    "Ans:- If there is no return statement for a function, its return value is None."
   ]
  },
  {
   "cell_type": "code",
   "execution_count": null,
   "id": "378a9864",
   "metadata": {},
   "outputs": [],
   "source": [
    "Q9. How do you make a function variable refer to the global variable?  \n",
    "\n",
    "Ans:- A global statement will force a variable in a function to refer to the global variable. "
   ]
  },
  {
   "cell_type": "code",
   "execution_count": null,
   "id": "c9afd89b",
   "metadata": {},
   "outputs": [],
   "source": [
    "Q10. What is the data type of None? \n",
    "\n",
    "Ans:- The datatype of None is NoneType. "
   ]
  },
  {
   "cell_type": "code",
   "execution_count": null,
   "id": "f4ddec67",
   "metadata": {},
   "outputs": [],
   "source": [
    "Q11. What does the sentence import areallyourpetsnamederic do?  \n",
    "\n",
    "Ans:- The import statement imports a module named areallyourpetsnamederic."
   ]
  },
  {
   "cell_type": "code",
   "execution_count": null,
   "id": "23f58ccd",
   "metadata": {},
   "outputs": [],
   "source": [
    "Q12. If you had a bacon() feature in a spam module, what would you call it after importing spam? \n",
    "\n",
    "Ans:- The function can be called with spam.bacon(). "
   ]
  },
  {
   "cell_type": "code",
   "execution_count": null,
   "id": "a7b1305c",
   "metadata": {},
   "outputs": [],
   "source": [
    "Q13. What can you do to save a programme from crashing if it encounters an error? \n",
    "\n",
    "Ans:- We can save a program from crashing if it encounters an error by placing the line of code that might cause an error\n",
    "      in a try clause. "
   ]
  },
  {
   "cell_type": "code",
   "execution_count": null,
   "id": "dd891ef1",
   "metadata": {},
   "outputs": [],
   "source": [
    "Q14. What is the purpose of the try clause? What is the purpose of the except clause?\n",
    "\n",
    "Ans:-  The try block lets us test a block of code for errors. The except block lets us handle the error."
   ]
  }
 ],
 "metadata": {
  "kernelspec": {
   "display_name": "Python 3 (ipykernel)",
   "language": "python",
   "name": "python3"
  },
  "language_info": {
   "codemirror_mode": {
    "name": "ipython",
    "version": 3
   },
   "file_extension": ".py",
   "mimetype": "text/x-python",
   "name": "python",
   "nbconvert_exporter": "python",
   "pygments_lexer": "ipython3",
   "version": "3.9.7"
  }
 },
 "nbformat": 4,
 "nbformat_minor": 5
}
