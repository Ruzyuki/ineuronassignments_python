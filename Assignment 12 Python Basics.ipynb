{
 "cells": [
  {
   "cell_type": "code",
   "execution_count": null,
   "id": "ef92275a",
   "metadata": {},
   "outputs": [],
   "source": [
    "1. In what modes should the PdfFileReader() and PdfFileWriter() File objects will be opened?\n",
    "ANS:-These files will be opened in binary mode.,\n",
    "     read binary (rb) for PdfFileREader() and write binary (wb) PdfFileWriter() "
   ]
  },
  {
   "cell_type": "code",
   "execution_count": null,
   "id": "6ecd1b59",
   "metadata": {},
   "outputs": [],
   "source": [
    "2. From a PdfFileReader object, how do you get a Page object for page 5?\n",
    "ANS:- Calling getPage(4) will return a Page object for page 5 since page 0 is the first page"
   ]
  },
  {
   "cell_type": "code",
   "execution_count": null,
   "id": "64f1c2d3",
   "metadata": {},
   "outputs": [],
   "source": [
    "3. What PdfFileReader variable stores the number of pages in the PDF document? \n",
    "ANS:- The total number of pages in the document is stored in the numPages attribute of a PdfFileReader object"
   ]
  },
  {
   "cell_type": "code",
   "execution_count": null,
   "id": "e5f610c6",
   "metadata": {},
   "outputs": [],
   "source": [
    "4. If a PdfFileReader object’s PDF is encrypted with the password swordfish, what must you do\n",
    "before you can obtain Page objects from it? \n",
    "ANS:- Before we obtain the page object, the pdf has to be decrypted by calling .decrypt('swordfish') "
   ]
  },
  {
   "cell_type": "code",
   "execution_count": null,
   "id": "956c9386",
   "metadata": {},
   "outputs": [],
   "source": [
    "5. What methods do you use to rotate a page? \n",
    "ANS:-  pageObj.rotateClockwise(180)\n",
    "\n",
    "       We use the rotateClockwise() and rotateCounterClockwise() methods. The degrees to rotate is passed as an integer argument."
   ]
  },
  {
   "cell_type": "code",
   "execution_count": null,
   "id": "a9c3c586",
   "metadata": {},
   "outputs": [],
   "source": [
    "6. What is the difference between a Run object and a Paragraph object? \n",
    "ANS:- Paragraph Object : A document contains multiple paragraphs. A paragraph begins on a new line and contains multiple\n",
    "      runs. The Document object contains a list of Paragraph objects for the paragraphs in the document. (A new paragraph begins\n",
    "      whenever the user presses ENTER or RETURN while typing in a Word document.)\n",
    "    \n",
    "      Run Objects : Runs are contiguous groups of characters within a paragraph with the same style "
   ]
  },
  {
   "cell_type": "code",
   "execution_count": null,
   "id": "615bf56e",
   "metadata": {},
   "outputs": [],
   "source": [
    "7. How do you obtain a list of Paragraph objects for a Document object that’s stored in a variable\n",
    "   named doc? \n",
    "ANS:- By using doc.paragraphs \n",
    "      Eg:- #!pip install python-docx \n",
    "           import docx\n",
    "           doc = docx.Document('xyz.docx')\n",
    "           doc.paragrap"
   ]
  },
  {
   "cell_type": "code",
   "execution_count": null,
   "id": "55a445f4",
   "metadata": {},
   "outputs": [],
   "source": [
    "8. What type of object has bold, underline, italic, strike, and outline variables?\n",
    "ANS:- A Run object has bold, underline,italic,strike and outline variables."
   ]
  },
  {
   "cell_type": "code",
   "execution_count": null,
   "id": "9a7b3193",
   "metadata": {},
   "outputs": [],
   "source": [
    "9. What is the difference between False, True, and None for the bold variable? \n",
    "ANS:- Runs can be further styled using text attributes. Each attribute can be set to one of three values:\n",
    "True (the attribute is always enabled, no matter what other styles are applied to the run),\n",
    "False (the attribute is always disabled),\n",
    "None (defaults to whatever the run’s style is set to).\n",
    "\n",
    "True always makes the Run object bolded and False makes it always not bolded, no matter what the style’s bold \n",
    "setting is. None will make the Run object just use the style’s bold setting"
   ]
  },
  {
   "cell_type": "code",
   "execution_count": null,
   "id": "3ea5702f",
   "metadata": {},
   "outputs": [],
   "source": [
    "10. How do you create a Document object for a new Word document?\n",
    "ANS:-  By Calling the docx.Document() function."
   ]
  },
  {
   "cell_type": "code",
   "execution_count": null,
   "id": "1794a1c0",
   "metadata": {},
   "outputs": [],
   "source": [
    "11. How do you add a paragraph with the text 'Hello, there!' to a Document object stored in a\n",
    "    variable named doc?\n",
    "ANS:- import docx\n",
    "      doc = docx.Document()\n",
    "\n",
    "      doc.add_paragraph('Hello there!')\n",
    "      doc.save('hellothere.docx')"
   ]
  },
  {
   "cell_type": "code",
   "execution_count": null,
   "id": "7f97f77c",
   "metadata": {},
   "outputs": [],
   "source": [
    "12. What integers represent the levels of headings available in Word documents?\n",
    "ANS:- integer from 0 to 4\n",
    "The arguments to add_heading() are a string of the heading text and an integer from 0 to 4. The integer 0 makes \n",
    "the heading the Title style, which is used for the top of the document.\n",
    "Integers 1 to 4 are for various heading levels, with 1 being the main heading and 4 the lowest subheading"
   ]
  }
 ],
 "metadata": {
  "kernelspec": {
   "display_name": "Python 3 (ipykernel)",
   "language": "python",
   "name": "python3"
  },
  "language_info": {
   "codemirror_mode": {
    "name": "ipython",
    "version": 3
   },
   "file_extension": ".py",
   "mimetype": "text/x-python",
   "name": "python",
   "nbconvert_exporter": "python",
   "pygments_lexer": "ipython3",
   "version": "3.9.7"
  }
 },
 "nbformat": 4,
 "nbformat_minor": 5
}
