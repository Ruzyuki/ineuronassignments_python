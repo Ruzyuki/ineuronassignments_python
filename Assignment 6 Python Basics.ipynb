{
 "cells": [
  {
   "cell_type": "code",
   "execution_count": null,
   "id": "5931fbf9",
   "metadata": {},
   "outputs": [],
   "source": [
    "1. What are escape characters, and how do you use them?\n",
    "ANS:- Escape characters represent characters in string values that would otherwise be difficult or impossible to type into code.\n",
    "      In Python strings, the backslash \"\\\" is a special character, also called the \"escape\" character. It is used in \n",
    "      representing certain whitespace characters: \"\\t\" is a tab, \"\\n\" is a newline, and \"\\r\" is a carriage return.\n",
    "      Conversely, prefixing a special character with \"\\\" turns it into an ordinary character."
   ]
  },
  {
   "cell_type": "code",
   "execution_count": null,
   "id": "00dd7aca",
   "metadata": {},
   "outputs": [],
   "source": [
    "2. What do the escape characters n and t stand for?\n",
    "ANS:-   \n",
    "        \\n\tNew Line\n",
    "        \\t\tTab (Horizontal)"
   ]
  },
  {
   "cell_type": "code",
   "execution_count": null,
   "id": "f1f8a452",
   "metadata": {},
   "outputs": [],
   "source": [
    "3. What is the way to include backslash characters in a string?\n",
    "ANS:- To insert characters that are illegal in a string, we use an escape character. \n",
    "      An escape character is a backslash \\ followed by the character we want to insert.\n",
    "      The \\\\ escape character will represent a backslash character."
   ]
  },
  {
   "cell_type": "code",
   "execution_count": null,
   "id": "1e7f2d55",
   "metadata": {},
   "outputs": [],
   "source": [
    "4. The string \"Howl's Moving Castle\" is a correct value. Why isn't the single quote character in the\n",
    "   word Howl's not escaped a problem?\n",
    "ANS:- The single quote in Howl's is fine because we've used double quotes to mark the beginning and end of the string."
   ]
  },
  {
   "cell_type": "code",
   "execution_count": null,
   "id": "fcb6903b",
   "metadata": {},
   "outputs": [],
   "source": [
    "5. How do you write a string of newlines if you don't want to use the n character?\n",
    "ANS:- Multiline strings allow you to use newlines in strings without the \\n escape character."
   ]
  },
  {
   "cell_type": "code",
   "execution_count": null,
   "id": "d48d7950",
   "metadata": {},
   "outputs": [],
   "source": [
    "6. What are the values of the given expressions?\n",
    "\"Hello, world!\"[1]             = e\n",
    "\"Hello, world!\"[0:5]           = Hello\n",
    "\"Hello, world!\"[:5]            = Hello\n",
    "\"Hello, world!\"[3:]            = lo, world!"
   ]
  },
  {
   "cell_type": "code",
   "execution_count": null,
   "id": "d7343fc4",
   "metadata": {},
   "outputs": [],
   "source": [
    "7. What are the values of the following expressions?\n",
    "'Hello'.upper()\n",
    "\n",
    "'Hello'.upper().isupper()\n",
    "\n",
    "'Hello'.upper().lower()\n",
    "ANS:- HELLO\n",
    "      TRUE\n",
    "      hello"
   ]
  },
  {
   "cell_type": "code",
   "execution_count": null,
   "id": "33a640fc",
   "metadata": {},
   "outputs": [],
   "source": [
    "8. What do the following expressions evaluate to?\n",
    "\n",
    "'Remember, remember, the fifth of November.'.split()\n",
    "\n",
    "'-'.join('There can be only one.'.split())\n",
    "\n",
    "ANS:- The expressions evaluate to the following:\n",
    "\n",
    "      ['Remember,', 'remember,', 'the', 'fifth', 'of', 'November.']\n",
    "\n",
    "      'There-can-be-only-one."
   ]
  },
  {
   "cell_type": "code",
   "execution_count": null,
   "id": "7819d6f5",
   "metadata": {},
   "outputs": [],
   "source": [
    "9. What are the methods for right-justifying, left-justifying, and centering a string?\n",
    "\n",
    "ANS:-The rjust(), ljust(), and center() string methods, respectively"
   ]
  },
  {
   "cell_type": "code",
   "execution_count": null,
   "id": "c1413d76",
   "metadata": {},
   "outputs": [],
   "source": [
    "10. What is the best way to remove whitespace characters from the start or end?\n",
    "ANS:- By using the .trim() function\n",
    "      OR \n",
    "      The lstrip() and rstrip() methods remove whitespace from the left and right ends of a string, respectively."
   ]
  }
 ],
 "metadata": {
  "kernelspec": {
   "display_name": "Python 3 (ipykernel)",
   "language": "python",
   "name": "python3"
  },
  "language_info": {
   "codemirror_mode": {
    "name": "ipython",
    "version": 3
   },
   "file_extension": ".py",
   "mimetype": "text/x-python",
   "name": "python",
   "nbconvert_exporter": "python",
   "pygments_lexer": "ipython3",
   "version": "3.9.7"
  }
 },
 "nbformat": 4,
 "nbformat_minor": 5
}
