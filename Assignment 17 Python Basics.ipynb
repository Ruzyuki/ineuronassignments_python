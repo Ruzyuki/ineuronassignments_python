{
 "cells": [
  {
   "cell_type": "code",
   "execution_count": null,
   "id": "c0420967",
   "metadata": {},
   "outputs": [],
   "source": [
    "1. Assign the value 7 to the variable guess_me. Then, write the conditional tests (if, else, and elif) to print the string 'too low' if guess_me is less than 7, \n",
    "   'too high' if greater than 7, and 'just right' if equal to 7.\\\n",
    "ANS:- "
   ]
  },
  {
   "cell_type": "code",
   "execution_count": 6,
   "id": "6fbfc5c1",
   "metadata": {},
   "outputs": [
    {
     "name": "stdout",
     "output_type": "stream",
     "text": [
      "Make a guess8\n",
      "Too High\n"
     ]
    }
   ],
   "source": [
    "guess_me = 7\n",
    "n = int(input(\"Make a guess\"))\n",
    "if n==guess_me:\n",
    "    print(\"Just Right\")\n",
    "elif n>guess_me:\n",
    "    print(\"Too High\")\n",
    "else:\n",
    "    print(\"Too Low\")"
   ]
  },
  {
   "cell_type": "code",
   "execution_count": null,
   "id": "c67f854a",
   "metadata": {},
   "outputs": [],
   "source": [
    "2. Assign the value 7 to the variable guess_me and the value 1 to the variable start. Write a while loop that compares start\n",
    "   with guess_me. Print too low if start is less than guess me. If start equals guess_me, print 'found it!' and exit the loop. \n",
    "   If start is greater than guess_me, print 'oops' and exit the loop. Increment start at the end of the loop.\n",
    " \n",
    "ANS:- "
   ]
  },
  {
   "cell_type": "code",
   "execution_count": 7,
   "id": "70f42254",
   "metadata": {},
   "outputs": [
    {
     "name": "stdout",
     "output_type": "stream",
     "text": [
      "Too Low\n",
      "Too Low\n",
      "Too Low\n",
      "Too Low\n",
      "Too Low\n",
      "Too Low\n",
      "Found it!\n"
     ]
    }
   ],
   "source": [
    "guess_me = 7\n",
    "start=1\n",
    "while True:\n",
    "    if start==guess_me:\n",
    "        print(\"Found it!\")\n",
    "        break\n",
    "    elif start>guess_me:\n",
    "        print(\"Oops\")\n",
    "        break\n",
    "    else:\n",
    "        print(\"Too Low\")\n",
    "    start = start+1"
   ]
  },
  {
   "cell_type": "code",
   "execution_count": null,
   "id": "aac7549e",
   "metadata": {},
   "outputs": [],
   "source": [
    "3. Print the following values of the list [3, 2, 1, 0] using a for loop."
   ]
  },
  {
   "cell_type": "code",
   "execution_count": 8,
   "id": "fb81b86a",
   "metadata": {},
   "outputs": [
    {
     "name": "stdout",
     "output_type": "stream",
     "text": [
      "3\n",
      "2\n",
      "1\n",
      "0\n"
     ]
    }
   ],
   "source": [
    "for i in [3,2,1,0]:\n",
    "    print(i)"
   ]
  },
  {
   "cell_type": "code",
   "execution_count": null,
   "id": "ee3bc80b",
   "metadata": {},
   "outputs": [],
   "source": [
    "4. Use a list comprehension to make a list of the even numbers in range(10)"
   ]
  },
  {
   "cell_type": "code",
   "execution_count": 10,
   "id": "64bb2a16",
   "metadata": {},
   "outputs": [
    {
     "name": "stdout",
     "output_type": "stream",
     "text": [
      "[0, 2, 4, 6, 8, 10]\n"
     ]
    }
   ],
   "source": [
    "range=0\n",
    "l=[]\n",
    "while range<11:\n",
    "    if range%2==0:\n",
    "        l.append(range)\n",
    "    range+= 1\n",
    "print(l)"
   ]
  },
  {
   "cell_type": "code",
   "execution_count": null,
   "id": "0325d916",
   "metadata": {},
   "outputs": [],
   "source": [
    "OR"
   ]
  },
  {
   "cell_type": "code",
   "execution_count": 2,
   "id": "6dd040d0",
   "metadata": {},
   "outputs": [
    {
     "data": {
      "text/plain": [
       "[0, 2, 4, 6, 8]"
      ]
     },
     "execution_count": 2,
     "metadata": {},
     "output_type": "execute_result"
    }
   ],
   "source": [
    "even = [item for item in range(10) if item%2==0]\n",
    "even "
   ]
  },
  {
   "cell_type": "code",
   "execution_count": null,
   "id": "a5e4001b",
   "metadata": {},
   "outputs": [],
   "source": [
    "5. Use a dictionary comprehension to create the dictionary squares. Use range(10) to return the\n",
    "keys, and use the square of each key as its value."
   ]
  },
  {
   "cell_type": "code",
   "execution_count": 1,
   "id": "e3e6870f",
   "metadata": {},
   "outputs": [
    {
     "data": {
      "text/plain": [
       "{0: 0, 1: 0, 2: 0, 3: 0, 4: 0, 5: 0, 6: 0, 7: 0, 8: 0, 9: 0}"
      ]
     },
     "execution_count": 1,
     "metadata": {},
     "output_type": "execute_result"
    }
   ],
   "source": [
    "squares = {num:num^num for num in range(10)}\n",
    "squares "
   ]
  },
  {
   "cell_type": "code",
   "execution_count": null,
   "id": "0ba6d4c8",
   "metadata": {},
   "outputs": [],
   "source": [
    "Q. Construct the set odd from the odd numbers in the range using a set comprehension (10)."
   ]
  },
  {
   "cell_type": "code",
   "execution_count": 3,
   "id": "72062485",
   "metadata": {},
   "outputs": [
    {
     "data": {
      "text/plain": [
       "[1, 3, 5, 7, 9]"
      ]
     },
     "execution_count": 3,
     "metadata": {},
     "output_type": "execute_result"
    }
   ],
   "source": [
    "odd = [item for item in range(10) if item%2==1]\n",
    "odd"
   ]
  },
  {
   "cell_type": "code",
   "execution_count": null,
   "id": "a89271c9",
   "metadata": {},
   "outputs": [],
   "source": [
    "7. Use a generator comprehension to return the string 'Got' and a number for the numbers in range(10). Iterate through \n",
    "   this by using a for loop.\n",
    "\n",
    "ANS:-"
   ]
  },
  {
   "cell_type": "code",
   "execution_count": 8,
   "id": "7cf98af7",
   "metadata": {},
   "outputs": [
    {
     "name": "stdout",
     "output_type": "stream",
     "text": [
      "Got 0\n",
      "Got 1\n",
      "Got 2\n",
      "Got 3\n",
      "Got 4\n",
      "Got 5\n",
      "Got 6\n",
      "Got 7\n",
      "Got 8\n",
      "Got 9\n"
     ]
    }
   ],
   "source": [
    "string_generator = ('Got '+ str(num) for num in range(10))\n",
    "for item in string_generator:\n",
    "    print(item)\n"
   ]
  },
  {
   "cell_type": "code",
   "execution_count": null,
   "id": "e0948167",
   "metadata": {},
   "outputs": [],
   "source": [
    "8. Define a function called good that returns the list ['Harry', 'Ron', 'Hermione']"
   ]
  },
  {
   "cell_type": "code",
   "execution_count": 12,
   "id": "0c89cbac",
   "metadata": {},
   "outputs": [
    {
     "data": {
      "text/plain": [
       "['Harry', 'Ron', 'Hermione']"
      ]
     },
     "execution_count": 12,
     "metadata": {},
     "output_type": "execute_result"
    }
   ],
   "source": [
    "def good():\n",
    "    return [\"Harry\",\"Ron\",\"Hermione\"]\n",
    "good()\n"
   ]
  },
  {
   "cell_type": "code",
   "execution_count": null,
   "id": "edea503f",
   "metadata": {},
   "outputs": [],
   "source": [
    "9. Define a generator function called get_odds that returns the odd numbers from range(10). Use a\n",
    "for loop to find and print the third value returned.\n",
    "ANS:- "
   ]
  },
  {
   "cell_type": "code",
   "execution_count": 7,
   "id": "df83e5cf",
   "metadata": {},
   "outputs": [],
   "source": [
    "def get_odds():\n",
    "    return [item for item in range(10) if item%2==1]"
   ]
  },
  {
   "cell_type": "code",
   "execution_count": 8,
   "id": "d6865e70",
   "metadata": {},
   "outputs": [
    {
     "data": {
      "text/plain": [
       "[1, 3, 5, 7, 9]"
      ]
     },
     "execution_count": 8,
     "metadata": {},
     "output_type": "execute_result"
    }
   ],
   "source": [
    "get_odds()"
   ]
  },
  {
   "cell_type": "code",
   "execution_count": 13,
   "id": "b7534bcb",
   "metadata": {},
   "outputs": [
    {
     "name": "stdout",
     "output_type": "stream",
     "text": [
      "1\n",
      "3\n",
      "5\n",
      "The third no. is 5\n"
     ]
    }
   ],
   "source": [
    "count=1\n",
    "for i in get_odds():\n",
    "    print(i)\n",
    "    if count ==3:\n",
    "        print(\"The third no. is \"+ str(i))\n",
    "        break\n",
    "    count+=1"
   ]
  },
  {
   "cell_type": "code",
   "execution_count": null,
   "id": "d13c6d9a",
   "metadata": {},
   "outputs": [],
   "source": [
    "10. Define an exception called OopsException. Raise this exception to see what happens. Then write\n",
    "the code to catch this exception and print \"Caught an oops\".\n",
    "\n",
    "ANS:- "
   ]
  },
  {
   "cell_type": "code",
   "execution_count": 18,
   "id": "766e1d9b",
   "metadata": {},
   "outputs": [
    {
     "name": "stdout",
     "output_type": "stream",
     "text": [
      "Caught an Oops\n"
     ]
    }
   ],
   "source": [
    "class OopsException(Exception):\n",
    "    pass\n",
    "def raiseException(num):\n",
    "    if num<0 :\n",
    "        raise OopsException(num)\n",
    "    \n",
    "try:\n",
    "    raiseException(-1)\n",
    "except OopsException as err:\n",
    "    print('Caught an Oops')\n",
    "    "
   ]
  },
  {
   "cell_type": "code",
   "execution_count": null,
   "id": "b465a714",
   "metadata": {},
   "outputs": [],
   "source": [
    "11. Use zip() to make a dictionary called movies that pairs these lists: titles = ['Creature of Habit',\n",
    "\n",
    "'Crewel Fate'] and plots = ['A nun turns into a monster', 'A haunted yarn shop'].\n",
    "ANS:-"
   ]
  },
  {
   "cell_type": "code",
   "execution_count": 22,
   "id": "60051e40",
   "metadata": {},
   "outputs": [
    {
     "name": "stdout",
     "output_type": "stream",
     "text": [
      "{'Creature of Habit': 'A nun turns into a monster', 'Crewek Fate': 'A haunted yarn shop'}\n"
     ]
    }
   ],
   "source": [
    "titles = ['Creature of Habit','Crewek Fate']\n",
    "plots = ['A nun turns into a monster','A haunted yarn shop']\n",
    "movies =dict(zip(titles,plots))\n",
    "print(movies)"
   ]
  },
  {
   "cell_type": "code",
   "execution_count": null,
   "id": "df294b39",
   "metadata": {},
   "outputs": [],
   "source": []
  }
 ],
 "metadata": {
  "kernelspec": {
   "display_name": "Python 3 (ipykernel)",
   "language": "python",
   "name": "python3"
  },
  "language_info": {
   "codemirror_mode": {
    "name": "ipython",
    "version": 3
   },
   "file_extension": ".py",
   "mimetype": "text/x-python",
   "name": "python",
   "nbconvert_exporter": "python",
   "pygments_lexer": "ipython3",
   "version": "3.9.7"
  }
 },
 "nbformat": 4,
 "nbformat_minor": 5
}
