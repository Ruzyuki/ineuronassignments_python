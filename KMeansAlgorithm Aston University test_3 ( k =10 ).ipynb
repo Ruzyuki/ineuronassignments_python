{
 "cells": [
  {
   "cell_type": "code",
   "execution_count": 1,
   "id": "93d5ed6d",
   "metadata": {},
   "outputs": [],
   "source": [
    "import pandas as pd\n",
    "import numpy as np\n",
    "import matplotlib.pyplot as mtp"
   ]
  },
  {
   "cell_type": "code",
   "execution_count": 2,
   "id": "24394068",
   "metadata": {},
   "outputs": [],
   "source": [
    "dataset = pd.read_csv(\"cluster1.csv\", header = None)"
   ]
  },
  {
   "cell_type": "code",
   "execution_count": 3,
   "id": "26a7d9c6",
   "metadata": {},
   "outputs": [
    {
     "data": {
      "text/html": [
       "<div>\n",
       "<style scoped>\n",
       "    .dataframe tbody tr th:only-of-type {\n",
       "        vertical-align: middle;\n",
       "    }\n",
       "\n",
       "    .dataframe tbody tr th {\n",
       "        vertical-align: top;\n",
       "    }\n",
       "\n",
       "    .dataframe thead th {\n",
       "        text-align: right;\n",
       "    }\n",
       "</style>\n",
       "<table border=\"1\" class=\"dataframe\">\n",
       "  <thead>\n",
       "    <tr style=\"text-align: right;\">\n",
       "      <th></th>\n",
       "      <th>0</th>\n",
       "      <th>1</th>\n",
       "    </tr>\n",
       "  </thead>\n",
       "  <tbody>\n",
       "    <tr>\n",
       "      <th>0</th>\n",
       "      <td>-1.993600</td>\n",
       "      <td>-1.4564</td>\n",
       "    </tr>\n",
       "    <tr>\n",
       "      <th>1</th>\n",
       "      <td>0.918930</td>\n",
       "      <td>-1.3925</td>\n",
       "    </tr>\n",
       "    <tr>\n",
       "      <th>2</th>\n",
       "      <td>1.446200</td>\n",
       "      <td>-3.1794</td>\n",
       "    </tr>\n",
       "    <tr>\n",
       "      <th>3</th>\n",
       "      <td>0.390930</td>\n",
       "      <td>-1.5674</td>\n",
       "    </tr>\n",
       "    <tr>\n",
       "      <th>4</th>\n",
       "      <td>2.699200</td>\n",
       "      <td>-5.1001</td>\n",
       "    </tr>\n",
       "    <tr>\n",
       "      <th>...</th>\n",
       "      <td>...</td>\n",
       "      <td>...</td>\n",
       "    </tr>\n",
       "    <tr>\n",
       "      <th>595</th>\n",
       "      <td>-0.935660</td>\n",
       "      <td>-1.3848</td>\n",
       "    </tr>\n",
       "    <tr>\n",
       "      <th>596</th>\n",
       "      <td>2.701200</td>\n",
       "      <td>-3.7438</td>\n",
       "    </tr>\n",
       "    <tr>\n",
       "      <th>597</th>\n",
       "      <td>-0.852540</td>\n",
       "      <td>-1.5795</td>\n",
       "    </tr>\n",
       "    <tr>\n",
       "      <th>598</th>\n",
       "      <td>0.044536</td>\n",
       "      <td>-1.6157</td>\n",
       "    </tr>\n",
       "    <tr>\n",
       "      <th>599</th>\n",
       "      <td>-0.465710</td>\n",
       "      <td>-1.5819</td>\n",
       "    </tr>\n",
       "  </tbody>\n",
       "</table>\n",
       "<p>600 rows × 2 columns</p>\n",
       "</div>"
      ],
      "text/plain": [
       "            0       1\n",
       "0   -1.993600 -1.4564\n",
       "1    0.918930 -1.3925\n",
       "2    1.446200 -3.1794\n",
       "3    0.390930 -1.5674\n",
       "4    2.699200 -5.1001\n",
       "..        ...     ...\n",
       "595 -0.935660 -1.3848\n",
       "596  2.701200 -3.7438\n",
       "597 -0.852540 -1.5795\n",
       "598  0.044536 -1.6157\n",
       "599 -0.465710 -1.5819\n",
       "\n",
       "[600 rows x 2 columns]"
      ]
     },
     "execution_count": 3,
     "metadata": {},
     "output_type": "execute_result"
    }
   ],
   "source": [
    "dataset"
   ]
  },
  {
   "cell_type": "code",
   "execution_count": 4,
   "id": "41dd461b",
   "metadata": {},
   "outputs": [],
   "source": [
    "#Extracting Independent Variables\n",
    "x = dataset.iloc[:,[0,1]].values"
   ]
  },
  {
   "cell_type": "code",
   "execution_count": null,
   "id": "9ec8b067",
   "metadata": {},
   "outputs": [],
   "source": [
    "#finding optimal number of clusters using the elbow method \n",
    "from sklearn.cluster import KMeans\n",
    "wcss_list = []  #for values of WCSS\n",
    "\n",
    "for i in range(1,11):\n",
    "    kmeans = KMeans(n_clusters = i, init = 'k-means++', random_state = 42)\n",
    "    kmeans.fit(x)\n",
    "    wcss_list.append(kmeans.inertia_)\n",
    "    \n",
    "mtp.plot(range(1,11),wcss_list)\n",
    "mtp.title('The Elbow Method Graph')\n",
    "mtp.xlabel(\"Number of clusters(k)\")\n",
    "mtp.ylabel(\"wcss_list\")\n",
    "mtp.show()"
   ]
  },
  {
   "cell_type": "code",
   "execution_count": 5,
   "id": "1bfda34b",
   "metadata": {},
   "outputs": [],
   "source": [
    "#training the K-means model on a dataset\n",
    "from sklearn.cluster import KMeans\n",
    "kmeans = KMeans(n_clusters = 10, init='k-means++',random_state = 42)\n",
    "y_predict = kmeans.fit_predict(x)"
   ]
  },
  {
   "cell_type": "code",
   "execution_count": 12,
   "id": "1e83d03a",
   "metadata": {},
   "outputs": [
    {
     "data": {
      "image/png": "[encoded data removed]",
      "text/plain": [
       "<Figure size 432x288 with 1 Axes>"
      ]
     },
     "metadata": {
      "needs_background": "light"
     },
     "output_type": "display_data"
    }
   ],
   "source": [
    "#visualizing the clusters\n",
    "mtp.scatter(x[y_predict == 0,0], x[y_predict == 0,1], s = 100, c= 'blue', label = 'Cluster 1')\n",
    "mtp.scatter(x[y_predict == 1,0], x[y_predict == 1,1], s= 100, c = 'green', label = 'Cluster 2')\n",
    "mtp.scatter(x[y_predict == 2,0], x[y_predict == 2,1], s= 100, c = 'red', label = 'Cluster 3')\n",
    "mtp.scatter(x[y_predict == 3,0], x[y_predict == 3,1], s= 100, c = 'black', label = 'Cluster 4')\n",
    "mtp.scatter(x[y_predict == 4,0], x[y_predict == 4,1], s= 100, c = 'orange', label = 'Cluster 5')\n",
    "mtp.scatter(x[y_predict == 5,0], x[y_predict == 5,1], s= 100, c = 'purple', label = 'Cluster 6')\n",
    "mtp.scatter(x[y_predict == 6,0], x[y_predict == 6,1], s= 100, c = 'pink', label = 'Cluster 7')\n",
    "mtp.scatter(x[y_predict == 7,0], x[y_predict == 7,1], s= 100, c = 'brown', label = 'Cluster 8')\n",
    "mtp.scatter(x[y_predict == 8,0], x[y_predict == 8,1], s= 100, c = 'grey', label = 'Cluster 9')\n",
    "mtp.scatter(x[y_predict == 9,0], x[y_predict == 9,1], s= 100, c = 'magenta', label = 'Cluster 10')\n",
    "\n",
    "\n",
    "mtp.scatter(kmeans.cluster_centers_[:,0], kmeans.cluster_centers_[:,1], s= 300, c = 'yellow' , label = 'Centroid')  \n",
    "mtp.title('Clusters of customers')\n",
    "mtp.xlabel('Annual Income(k$)')\n",
    "mtp.ylabel('Spending Score (1-100)')\n",
    "mtp.legend()\n",
    "mtp.show()"
   ]
  },
  {
   "cell_type": "code",
   "execution_count": null,
   "id": "de7cae38",
   "metadata": {},
   "outputs": [],
   "source": []
  }
 ],
 "metadata": {
  "kernelspec": {
   "display_name": "Python 3 (ipykernel)",
   "language": "python",
   "name": "python3"
  },
  "language_info": {
   "codemirror_mode": {
    "name": "ipython",
    "version": 3
   },
   "file_extension": ".py",
   "mimetype": "text/x-python",
   "name": "python",
   "nbconvert_exporter": "python",
   "pygments_lexer": "ipython3",
   "version": "3.9.7"
  }
 },
 "nbformat": 4,
 "nbformat_minor": 5
}
