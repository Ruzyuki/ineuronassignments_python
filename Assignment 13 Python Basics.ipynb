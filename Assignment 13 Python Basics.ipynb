{
 "cells": [
  {
   "cell_type": "code",
   "execution_count": null,
   "id": "ee576278",
   "metadata": {},
   "outputs": [],
   "source": [
    "1. What advantages do Excel spreadsheets have over CSV spreadsheets?\n",
    "ANS:- "
   ]
  },
  {
   "cell_type": "code",
   "execution_count": null,
   "id": "38974632",
   "metadata": {},
   "outputs": [],
   "source": [
    "1) It is a binary file that holds information about all the worksheets in a workbook.\n",
    "\n",
    "2) An Excel not only stores data but can also do operations on the data.\n",
    "\n",
    "3) Files saved in excel cannot be opened or edited by text editors.\n",
    "\n",
    "4) Large files user is much easier in Excel for the end user. Also, you can have additional functions \n",
    "like selecting individual cells for import, convert dates and time automatically, reading formulas and their results, \n",
    "filters, sorting, etc\n",
    "\n",
    "5) Apart from text, data can also be stored in form of charts and graphs.\n",
    "\n",
    "6) Excel can connect to external data sources to fetch data. You can use custom add-in in Excel to increase its functionality.\n",
    "\n",
    "7) Excel allows for Review of Data with detailed tracking and commenting feature\n",
    "\n",
    "8) In Excel, spreadsheets can have values of data types other than strings; cells can have different fonts, sizes, or \n",
    "color settings; cells can have varying widths and heights; adjacent cells can be merged"
   ]
  },
  {
   "cell_type": "code",
   "execution_count": null,
   "id": "b39e6c8f",
   "metadata": {},
   "outputs": [],
   "source": [
    "2.What do you pass to csv.reader() and csv.writer() to create reader and writer objects? \n",
    "ANS:- We pass a File object, obtained from a call to open().\n",
    "      import csv\n",
    "      file_csv = open('abc.csv')\n",
    "      filereader = csv.reader(file_csv)\n",
    "      fileData = list(filereader)\n",
    "      fileData"
   ]
  },
  {
   "cell_type": "code",
   "execution_count": null,
   "id": "63f16818",
   "metadata": {},
   "outputs": [],
   "source": [
    "3. What modes do File objects for reader and writer objects need to be opened in? \n",
    "ANS:- File objects need to be opened in read-binary ('rb') for Reader objects and write-binary ('wb') for Writer objects"
   ]
  },
  {
   "cell_type": "code",
   "execution_count": null,
   "id": "92272b94",
   "metadata": {},
   "outputs": [],
   "source": [
    "4. What method takes a list argument and writes it to a CSV file? \n",
    "ANS:- The writerow() method takes a list argument and writes it to a CSV file."
   ]
  },
  {
   "cell_type": "code",
   "execution_count": null,
   "id": "50db2f4e",
   "metadata": {},
   "outputs": [],
   "source": [
    "5. What do the keyword arguments delimiter and line terminator do?\n",
    "ANS:- The delimiter argument changes the string used to separate cells in a row\n",
    "      whereas the line terminator argument changes the string used to separate rows."
   ]
  },
  {
   "cell_type": "code",
   "execution_count": null,
   "id": "5c829f02",
   "metadata": {},
   "outputs": [],
   "source": [
    "6. What function takes a string of JSON data and returns a Python data structure? \n",
    "ANS:- json.loads()"
   ]
  },
  {
   "cell_type": "code",
   "execution_count": null,
   "id": "68c10392",
   "metadata": {},
   "outputs": [],
   "source": [
    "7. What function takes a Python data structure and returns a string of JSON data? \n",
    "ANS:- json.dumps()"
   ]
  }
 ],
 "metadata": {
  "kernelspec": {
   "display_name": "Python 3 (ipykernel)",
   "language": "python",
   "name": "python3"
  },
  "language_info": {
   "codemirror_mode": {
    "name": "ipython",
    "version": 3
   },
   "file_extension": ".py",
   "mimetype": "text/x-python",
   "name": "python",
   "nbconvert_exporter": "python",
   "pygments_lexer": "ipython3",
   "version": "3.9.7"
  }
 },
 "nbformat": 4,
 "nbformat_minor": 5
}
