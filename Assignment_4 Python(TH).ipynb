{
 "cells": [
  {
   "cell_type": "code",
   "execution_count": null,
   "id": "d8d0c3fc",
   "metadata": {},
   "outputs": [],
   "source": [
    "Q1. What exactly is []?\n",
    "Ans: In python  square brackets i.e. [] are used to create a list by placing the elements inside the square brackets ,\n",
    "     separated by commas. A list can have any number of items and they may be of different types(integer, float, string,etc). "
   ]
  },
  {
   "cell_type": "code",
   "execution_count": null,
   "id": "325f6b2f",
   "metadata": {},
   "outputs": [],
   "source": [
    "Q2.  In a list of values stored in a variable called spam, how would you assign the value\n",
    "     'hello' as the third value? (Assume [2, 4, 6, 8, 10] are in spam.) \n",
    "     \n",
    "Ans: spam[2] = 'hello'"
   ]
  },
  {
   "cell_type": "code",
   "execution_count": null,
   "id": "c2e60090",
   "metadata": {},
   "outputs": [],
   "source": [
    "Q3. What is the value of spam[int(int('3' * 2) / 11)]?\n",
    "\n",
    "Ans: 'd'"
   ]
  },
  {
   "cell_type": "code",
   "execution_count": 3,
   "id": "dc45f4b1",
   "metadata": {},
   "outputs": [
    {
     "data": {
      "text/plain": [
       "'d'"
      ]
     },
     "execution_count": 3,
     "metadata": {},
     "output_type": "execute_result"
    }
   ],
   "source": [
    "spam=  ['a', 'b', 'c', 'd'] \n",
    "spam[int(int('3' * 2) / 11)]"
   ]
  },
  {
   "cell_type": "code",
   "execution_count": 4,
   "id": "9b6abade",
   "metadata": {},
   "outputs": [
    {
     "data": {
      "text/plain": [
       "'33'"
      ]
     },
     "execution_count": 4,
     "metadata": {},
     "output_type": "execute_result"
    }
   ],
   "source": [
    "Q4. What is the value of spam[-1]?\n",
    "\n",
    "Ans: 'd'"
   ]
  },
  {
   "cell_type": "code",
   "execution_count": null,
   "id": "7b068e7a",
   "metadata": {},
   "outputs": [],
   "source": [
    "Q5. What is the value of spam[:2]?\n",
    "\n",
    "Ans: ['a', 'b']"
   ]
  },
  {
   "cell_type": "code",
   "execution_count": 6,
   "id": "6bf16093",
   "metadata": {},
   "outputs": [
    {
     "data": {
      "text/plain": [
       "['a', 'b']"
      ]
     },
     "execution_count": 6,
     "metadata": {},
     "output_type": "execute_result"
    }
   ],
   "source": [
    "spam[:2]"
   ]
  },
  {
   "cell_type": "code",
   "execution_count": 15,
   "id": "080888ad",
   "metadata": {},
   "outputs": [],
   "source": [
    "bacon =  [3.14, 'cat', 11, 'cat', True]"
   ]
  },
  {
   "cell_type": "code",
   "execution_count": null,
   "id": "5c5e9659",
   "metadata": {},
   "outputs": [],
   "source": [
    "Q6. What is the value of bacon.index('cat')?\n",
    "\n",
    "Ans : 1"
   ]
  },
  {
   "cell_type": "code",
   "execution_count": 10,
   "id": "0625825a",
   "metadata": {},
   "outputs": [
    {
     "data": {
      "text/plain": [
       "1"
      ]
     },
     "execution_count": 10,
     "metadata": {},
     "output_type": "execute_result"
    }
   ],
   "source": [
    "bacon.index('cat')"
   ]
  },
  {
   "cell_type": "code",
   "execution_count": null,
   "id": "04abf5ea",
   "metadata": {},
   "outputs": [],
   "source": [
    "Q7.  How does bacon.append(99) change the look of the list value in bacon?\n",
    " \n",
    "Ans: bacon.append(99) adds a element '99' at the end of the list 'bacon'"
   ]
  },
  {
   "cell_type": "code",
   "execution_count": 16,
   "id": "fd809911",
   "metadata": {},
   "outputs": [],
   "source": [
    "bacon.append(99)"
   ]
  },
  {
   "cell_type": "code",
   "execution_count": 17,
   "id": "c2446a61",
   "metadata": {},
   "outputs": [
    {
     "data": {
      "text/plain": [
       "[3.14, 'cat', 11, 'cat', True, 99]"
      ]
     },
     "execution_count": 17,
     "metadata": {},
     "output_type": "execute_result"
    }
   ],
   "source": [
    "bacon"
   ]
  },
  {
   "cell_type": "code",
   "execution_count": null,
   "id": "d32f8f47",
   "metadata": {},
   "outputs": [],
   "source": [
    "Q8. How does bacon.remove('cat') change the look of the list in bacon?\n",
    "\n",
    "Ans: bacon.remove('cat') removes the element 'cat' from the index position 1 from the list 'bacon'."
   ]
  },
  {
   "cell_type": "code",
   "execution_count": 18,
   "id": "2c3156b4",
   "metadata": {},
   "outputs": [
    {
     "data": {
      "text/plain": [
       "[3.14, 11, 'cat', True, 99]"
      ]
     },
     "execution_count": 18,
     "metadata": {},
     "output_type": "execute_result"
    }
   ],
   "source": [
    "bacon.remove('cat')\n",
    "bacon"
   ]
  },
  {
   "cell_type": "code",
   "execution_count": null,
   "id": "4c72e6a4",
   "metadata": {},
   "outputs": [],
   "source": [
    "Q9. What are the list concatenation and list replication operators?\n",
    "\n",
    "Ans: In python, the operator for list concatenation is +, while the operator \n",
    "     for replication is *. "
   ]
  },
  {
   "cell_type": "code",
   "execution_count": null,
   "id": "6a04db0c",
   "metadata": {},
   "outputs": [],
   "source": [
    "Q10. What is difference between the list methods append() and insert()?\n",
    "\n",
    "Ans: Using the append() function we can add a specific element only at the end of a list.\n",
    "     Whereas, the insert() function allows us to add a specific element at the specific index of the list. "
   ]
  },
  {
   "cell_type": "code",
   "execution_count": null,
   "id": "97713d87",
   "metadata": {},
   "outputs": [],
   "source": [
    "Q11. What are the two methods for removing items from a list?\n",
    "\n",
    "Ans: remove() and pop()"
   ]
  },
  {
   "cell_type": "code",
   "execution_count": null,
   "id": "e9d5c380",
   "metadata": {},
   "outputs": [],
   "source": [
    "Q12. Describe how list values and string values are identical.  \n",
    "\n",
    "Ans: The similarity between Lists and Strings in Python is that both are sequences. \n",
    "     The values that make up a list are called its elements. Lists are similar to strings, which \n",
    "     are ordered collections of characters, except that the elements of a list can have any type \n",
    "     and for any one list, the items can be of different types."
   ]
  },
  {
   "cell_type": "code",
   "execution_count": null,
   "id": "8593e70c",
   "metadata": {},
   "outputs": [],
   "source": [
    "Q13. What's the difference between tuples and lists? \n",
    "\n",
    "Ans: The key difference between the tuples and lists is that while the tuples are immutable objects, the lists are mutable."
   ]
  },
  {
   "cell_type": "code",
   "execution_count": null,
   "id": "e1b9097b",
   "metadata": {},
   "outputs": [],
   "source": [
    "Q14. How do you type a tuple value that only contains the integer 42? \n",
    "\n",
    "Ans: tp1 = (42)"
   ]
  },
  {
   "cell_type": "code",
   "execution_count": 19,
   "id": "cf1cd805",
   "metadata": {},
   "outputs": [],
   "source": [
    "tp1 = (42)"
   ]
  },
  {
   "cell_type": "code",
   "execution_count": 20,
   "id": "f053ff6e",
   "metadata": {},
   "outputs": [
    {
     "data": {
      "text/plain": [
       "42"
      ]
     },
     "execution_count": 20,
     "metadata": {},
     "output_type": "execute_result"
    }
   ],
   "source": [
    "tp1"
   ]
  },
  {
   "cell_type": "code",
   "execution_count": null,
   "id": "796be59c",
   "metadata": {},
   "outputs": [],
   "source": [
    "Q15. How do you get a list value's tuple form? How do you get a tuple value's list form?\n",
    "\n",
    "Ans: We can get a list value in tuple form by using the inbuilt tuple() function.\n",
    "     For eg, \n",
    "        l_value = [ 'p', 'q' , 56 , 'Hello']\n",
    "        t_value = tuple(l_value)\n",
    "        t_value\n",
    "        \n",
    "    We can get the tuple value's list form by using the inbuilt list() function.\n",
    "    For eg, \n",
    "        t_val = (9,'ten',True)\n",
    "        l_val = list(t_val)\n",
    "        l_val\n",
    "    "
   ]
  },
  {
   "cell_type": "code",
   "execution_count": 26,
   "id": "6ad2e0e1",
   "metadata": {},
   "outputs": [
    {
     "data": {
      "text/plain": [
       "('p', 'q', 56, 'Hello')"
      ]
     },
     "execution_count": 26,
     "metadata": {},
     "output_type": "execute_result"
    }
   ],
   "source": [
    "l_value = [ 'p', 'q' , 56 , 'Hello']\n",
    "t_value = tuple(l_value)\n",
    "t_value"
   ]
  },
  {
   "cell_type": "code",
   "execution_count": 25,
   "id": "50ff08c9",
   "metadata": {},
   "outputs": [
    {
     "data": {
      "text/plain": [
       "[9, 'ten', True]"
      ]
     },
     "execution_count": 25,
     "metadata": {},
     "output_type": "execute_result"
    }
   ],
   "source": [
    "t_val = (9,'ten',True)\n",
    "l_val = list(t_val)\n",
    "l_val"
   ]
  },
  {
   "cell_type": "code",
   "execution_count": null,
   "id": "7068c165",
   "metadata": {},
   "outputs": [],
   "source": [
    "Q16. Variables that \"contain\" list values are not necessarily lists themselves. Instead, what do they contain?\n",
    "\n",
    "Ans: Variables will contain references to list values rather than list values themselves."
   ]
  },
  {
   "cell_type": "code",
   "execution_count": null,
   "id": "b1fd3774",
   "metadata": {},
   "outputs": [],
   "source": [
    "Q17. How do you distinguish between copy.copy() and copy.deepcopy()?\n",
    " \n",
    "Ans: copy() creates reference to the original object. If we change the copied object, we change the original object. \n",
    "     deepcopy() creates a new object and does real copying of original object to the new one. Changing the new \n",
    "     deepcopied object doesn't affect the original object. "
   ]
  }
 ],
 "metadata": {
  "kernelspec": {
   "display_name": "Python 3 (ipykernel)",
   "language": "python",
   "name": "python3"
  },
  "language_info": {
   "codemirror_mode": {
    "name": "ipython",
    "version": 3
   },
   "file_extension": ".py",
   "mimetype": "text/x-python",
   "name": "python",
   "nbconvert_exporter": "python",
   "pygments_lexer": "ipython3",
   "version": "3.9.7"
  }
 },
 "nbformat": 4,
 "nbformat_minor": 5
}
