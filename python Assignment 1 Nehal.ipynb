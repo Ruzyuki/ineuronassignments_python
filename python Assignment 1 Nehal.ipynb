{
 "cells": [
  {
   "cell_type": "code",
   "execution_count": 1,
   "id": "dfe8f91f",
   "metadata": {},
   "outputs": [
    {
     "ename": "SyntaxError",
     "evalue": "invalid syntax (Temp/ipykernel_15400/1565474212.py, line 1)",
     "output_type": "error",
     "traceback": [
      "\u001b[1;36m  File \u001b[1;32m\"C:\\Users\\HP\\AppData\\Local\\Temp/ipykernel_15400/1565474212.py\"\u001b[1;36m, line \u001b[1;32m1\u001b[0m\n\u001b[1;33m    1. In the below elements which of them are values or an expression? eg:- values can be\u001b[0m\n\u001b[1;37m       ^\u001b[0m\n\u001b[1;31mSyntaxError\u001b[0m\u001b[1;31m:\u001b[0m invalid syntax\n"
     ]
    }
   ],
   "source": [
    "1. In the below elements which of them are values or an expression? eg:- values can be\n",
    "integer or string and expressions will be mathematical operators."
   ]
  },
  {
   "cell_type": "code",
   "execution_count": 2,
   "id": "62828454",
   "metadata": {},
   "outputs": [
    {
     "ename": "SyntaxError",
     "evalue": "invalid syntax (Temp/ipykernel_15400/312896678.py, line 1)",
     "output_type": "error",
     "traceback": [
      "\u001b[1;36m  File \u001b[1;32m\"C:\\Users\\HP\\AppData\\Local\\Temp/ipykernel_15400/312896678.py\"\u001b[1;36m, line \u001b[1;32m1\u001b[0m\n\u001b[1;33m    ANS:-\u001b[0m\n\u001b[1;37m         ^\u001b[0m\n\u001b[1;31mSyntaxError\u001b[0m\u001b[1;31m:\u001b[0m invalid syntax\n"
     ]
    }
   ],
   "source": [
    "ANS:-\n",
    "\n",
    "*  expression\n",
    "'hello' value\n",
    "-87.8  value\n",
    "-   expression\n",
    "/   expression\n",
    "+   expression\n",
    "6   value"
   ]
  },
  {
   "cell_type": "code",
   "execution_count": null,
   "id": "73afeab8",
   "metadata": {},
   "outputs": [],
   "source": [
    "2. What is the difference between string and variable?\n",
    "ANS:-  Variable : A variable is the name of the location in the primary memory of the computer. It can be chosen by the user. \n",
    "                  A varible can store everything from strings to numbers.\n",
    "    \n",
    "       String : String is a collection of alphabets, words or other characters. It is one of the primitive data structures\n",
    "                and are  the building blocks for data manipulation. It is the value assigned in quotes. "
   ]
  },
  {
   "cell_type": "code",
   "execution_count": null,
   "id": "d37d4d04",
   "metadata": {},
   "outputs": [],
   "source": [
    "3. Describe three different data types.\n",
    "ANS :- Three different data types are :-\n",
    "        (1) INTEGERS: It contains positive or negative whole numbers(without fraction or decimal). This value is \n",
    "            represented by the int class.  In python there is no limit to how long an integer value can be. \n",
    "            eg, n= 8\n",
    "        \n",
    "        (2) STRING: String is a collection of alphabets, words or other characters. It is one of the primitive data structures\n",
    "                    and are  the building blocks for data manipulation. It is the value assigned in quotes.\n",
    "                    eg, s= \"sudh\"\n",
    "                \n",
    "        (3) DICTIONARY : A dictionary is an unordered and mutable pythom container that stores mappings of unique keys to \n",
    "                         values. Dictionaries are written with curly brackets ({}), including key-value pairs separated by \n",
    "                         commas. A colon(:) separates each key from its value.\n",
    "                         eg, d = {'Kolkata':'West Bengal', 'Rorkee':'Uttarakhand', 'Una':'Himachal Pradesh'}\n",
    "        "
   ]
  },
  {
   "cell_type": "code",
   "execution_count": null,
   "id": "ef96401c",
   "metadata": {},
   "outputs": [],
   "source": [
    "4. What is an expression made up of? What do all expressions do? \n",
    "\n",
    "ANS:- An expression is a combination of values, variables, operators, and calls to functions. \n",
    "      Expressions need to be evaluated. If we ask Python to print an expression, the interpreter evaluates the \n",
    "      expression and displays the result.\n",
    "      eg, 2+4 is an expression. "
   ]
  },
  {
   "cell_type": "code",
   "execution_count": null,
   "id": "8ebeca81",
   "metadata": {},
   "outputs": [],
   "source": [
    "5. This assignment statements, like spam = 10. What is the difference between an expression and a statement? \n",
    "\n",
    "ANS :- Expression is made up of values, containers, and mathematical operators(operands) and the statement \n",
    "       is just like a command that a Python interpreter executes for eg, like the print command."
   ]
  },
  {
   "cell_type": "code",
   "execution_count": null,
   "id": "5a02046e",
   "metadata": {},
   "outputs": [],
   "source": [
    "6. After running the following code, what does the variable bacon contain?\n",
    "bacon = 22\n",
    "bacon + 1"
   ]
  },
  {
   "cell_type": "code",
   "execution_count": 3,
   "id": "455ad6e8",
   "metadata": {},
   "outputs": [
    {
     "data": {
      "text/plain": [
       "23"
      ]
     },
     "execution_count": 3,
     "metadata": {},
     "output_type": "execute_result"
    }
   ],
   "source": [
    "#ANS:-\n",
    "22+1"
   ]
  },
  {
   "cell_type": "code",
   "execution_count": null,
   "id": "a9ceb4a7",
   "metadata": {},
   "outputs": [],
   "source": [
    "Therefore, after the execution of the code , the variable beacon contains  the value 23."
   ]
  },
  {
   "cell_type": "code",
   "execution_count": null,
   "id": "96f5adf6",
   "metadata": {},
   "outputs": [],
   "source": [
    "7. What should the values of the following two terms be?\n",
    "'spam' + 'spamspam'\n",
    "'spam' * 3\n",
    "\n",
    "ANS :- The values of the two terms will be same , i.e. equal to spamspamspam"
   ]
  },
  {
   "cell_type": "code",
   "execution_count": 4,
   "id": "b9a95160",
   "metadata": {},
   "outputs": [
    {
     "data": {
      "text/plain": [
       "'spamspamspam'"
      ]
     },
     "execution_count": 4,
     "metadata": {},
     "output_type": "execute_result"
    }
   ],
   "source": [
    "'spam'+'spamspam'"
   ]
  },
  {
   "cell_type": "code",
   "execution_count": 5,
   "id": "a35922f1",
   "metadata": {},
   "outputs": [
    {
     "data": {
      "text/plain": [
       "'spamspamspam'"
      ]
     },
     "execution_count": 5,
     "metadata": {},
     "output_type": "execute_result"
    }
   ],
   "source": [
    "'spam'*3"
   ]
  },
  {
   "cell_type": "code",
   "execution_count": null,
   "id": "e47d7f72",
   "metadata": {},
   "outputs": [],
   "source": [
    "8. Why is eggs a valid variable name while 100 is invalid?\n",
    "\n",
    "ANS:- eggs is a valid variable name while 100 is invalid because 100 is an integer and we can't give a variable an integer  \n",
    "      as a variable name in Python. "
   ]
  },
  {
   "cell_type": "code",
   "execution_count": null,
   "id": "9697fb45",
   "metadata": {},
   "outputs": [],
   "source": [
    "9. What three functions can be used to get the integer, floating-point number, or string version of a value?\n",
    "\n",
    "ANS :- The functions are int(), float() and str() respectively.\n",
    "    "
   ]
  },
  {
   "cell_type": "code",
   "execution_count": null,
   "id": "5f91dde7",
   "metadata": {},
   "outputs": [],
   "source": [
    "10. Why does this expression cause an error? How can you fix it?\n",
    "'I have eaten ' + 99 + ' burritos.'\n",
    "\n",
    "ANS :- The expression causes an error because  99 is an integer value and the rest are string and we can't concatenate\n",
    "       a string with an integer in Python so we can fix the above error by enclosing 99 in quotes so it becomes a string value.\n",
    "        \n",
    "    "
   ]
  },
  {
   "cell_type": "code",
   "execution_count": 20,
   "id": "dde2277b",
   "metadata": {},
   "outputs": [
    {
     "data": {
      "text/plain": [
       "'I have eaten 99 burritos.'"
      ]
     },
     "execution_count": 20,
     "metadata": {},
     "output_type": "execute_result"
    }
   ],
   "source": [
    "'I have eaten ' +'99' + ' burritos.'"
   ]
  },
  {
   "cell_type": "code",
   "execution_count": null,
   "id": "29f02139",
   "metadata": {},
   "outputs": [],
   "source": []
  }
 ],
 "metadata": {
  "kernelspec": {
   "display_name": "Python 3 (ipykernel)",
   "language": "python",
   "name": "python3"
  },
  "language_info": {
   "codemirror_mode": {
    "name": "ipython",
    "version": 3
   },
   "file_extension": ".py",
   "mimetype": "text/x-python",
   "name": "python",
   "nbconvert_exporter": "python",
   "pygments_lexer": "ipython3",
   "version": "3.9.7"
  }
 },
 "nbformat": 4,
 "nbformat_minor": 5
}
