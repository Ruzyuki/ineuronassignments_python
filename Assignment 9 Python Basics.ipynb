{
 "cells": [
  {
   "cell_type": "code",
   "execution_count": null,
   "id": "a0a4752a",
   "metadata": {},
   "outputs": [],
   "source": [
    "1. To what does a relative path refer?\n",
    "ANS:- A relative path in Python is a path that describes the location of a directory\n",
    "      relative to the entry point where you run the Python script."
   ]
  },
  {
   "cell_type": "code",
   "execution_count": null,
   "id": "22a48518",
   "metadata": {},
   "outputs": [],
   "source": [
    "2. What does an absolute path start with your operating system?\n",
    "ANS:- An absolute path is a path that contains the entire path to the file or directory that you need to access. \n",
    "      This path will begin at the home directory of your computer and will end with the file or \n",
    "      directory that you wish to access."
   ]
  },
  {
   "cell_type": "code",
   "execution_count": null,
   "id": "ff8e302b",
   "metadata": {},
   "outputs": [],
   "source": [
    "3. What do the functions os.getcwd() and os.chdir() do?\n",
    "ANS:- getcwd() : CWD stands for Current Working Directory. This function allows \n",
    "                 you to see what your current working directory is. \n",
    "    chdir(\"path-to-dir\") : Short for CHange DIRectory, this function allows you to set the \n",
    "                current working directory to a path of your choice."
   ]
  },
  {
   "cell_type": "code",
   "execution_count": null,
   "id": "b4803ec5",
   "metadata": {},
   "outputs": [],
   "source": [
    "4. What are the . and .. folders?\n",
    "ANS:- The . folder is the current folder, and .. is the parent folder."
   ]
  },
  {
   "cell_type": "code",
   "execution_count": null,
   "id": "5be42daf",
   "metadata": {},
   "outputs": [],
   "source": [
    "5. In C:\\bacon\\eggs\\spam.txt, which part is the dir name, and which part is the base name?\n",
    "ANS:- C:\\bacon\\eggs is the dir name, while spam. txt is the base name."
   ]
  },
  {
   "cell_type": "code",
   "execution_count": null,
   "id": "05720d33",
   "metadata": {},
   "outputs": [],
   "source": [
    "6. What are the three “mode” arguments that can be passed to the open() function?\n",
    "ANS:- The string 'r' for read mode, 'w' for write mode, and 'a' for append mode "
   ]
  },
  {
   "cell_type": "code",
   "execution_count": null,
   "id": "c190199f",
   "metadata": {},
   "outputs": [],
   "source": [
    "7. What happens if an existing file is opened in write mode?\n",
    "ANS:- If an existing file opened in write mode, it is erased and completely overwritten. "
   ]
  },
  {
   "cell_type": "code",
   "execution_count": null,
   "id": "a0457111",
   "metadata": {},
   "outputs": [],
   "source": [
    "8. How do you tell the difference between read() and readlines()?\n",
    "ANS:- The read() method returns the file's entire contents as a single string value.  \n",
    "      The readlines() method returns a list of strings, where each string is a line from the file's contents."
   ]
  },
  {
   "cell_type": "code",
   "execution_count": null,
   "id": "a0c59036",
   "metadata": {},
   "outputs": [],
   "source": [
    "9. What data structure does a shelf value resemble?\n",
    "ANS:- A shelf value resembles a dictionary value; it has keys and values, along with keys() and \n",
    "      values() methods that work similarly to the dictionary methods of the same names."
   ]
  }
 ],
 "metadata": {
  "kernelspec": {
   "display_name": "Python 3 (ipykernel)",
   "language": "python",
   "name": "python3"
  },
  "language_info": {
   "codemirror_mode": {
    "name": "ipython",
    "version": 3
   },
   "file_extension": ".py",
   "mimetype": "text/x-python",
   "name": "python",
   "nbconvert_exporter": "python",
   "pygments_lexer": "ipython3",
   "version": "3.9.7"
  }
 },
 "nbformat": 4,
 "nbformat_minor": 5
}
