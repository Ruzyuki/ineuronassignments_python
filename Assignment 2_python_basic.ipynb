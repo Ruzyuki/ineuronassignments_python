{
 "cells": [
  {
   "cell_type": "code",
   "execution_count": null,
   "id": "9567e08f",
   "metadata": {},
   "outputs": [],
   "source": [
    "Q1. What are the two values of the Boolean data type? How do you write them?\n",
    "Ans :-  A boolean data type can have two values : True or False which are special versions of 1 and 0 respectively.\n",
    "        If we want to define a boolean in python, we can simply assign a True or False value or even an expression that \n",
    "        ultimately evaluates to one of these values. We can check the type of variable by using the built-in type function in\n",
    "        python."
   ]
  },
  {
   "cell_type": "code",
   "execution_count": null,
   "id": "c348d1da",
   "metadata": {},
   "outputs": [],
   "source": [
    "Q2. What are the three different types of Boolean operators?\n",
    "Ams :-  The three different types of boolean operators are AND, OR and NOT. "
   ]
  },
  {
   "cell_type": "code",
   "execution_count": null,
   "id": "6e514780",
   "metadata": {},
   "outputs": [],
   "source": [
    "Q3. Make a list of each Boolean operator's  truth tables (i.e. every possible combination of Boolean\n",
    "values for the operator and what it evaluate ).\n",
    "Ans :-  \n",
    "    \n",
    "        AND operator\n",
    "        \n",
    "        INPUT A        INPUT B     OUTPUT (A.B)\n",
    "          0               0           0\n",
    "          0               1           0\n",
    "          1               0           0\n",
    "          1               1           1\n",
    "        \n",
    "        \n",
    "        OR operator\n",
    "        \n",
    "        INPUT A       INPUT B      OUTPUT (A + B)\n",
    "          0              0           0\n",
    "          0              1           1\n",
    "          1              0           1\n",
    "          1              1           1\n",
    "        \n",
    "        NOT operator\n",
    "        \n",
    "        INPUT A           OUTPUT A'\n",
    "           0                 1\n",
    "           1                 0"
   ]
  },
  {
   "cell_type": "code",
   "execution_count": null,
   "id": "ae2fb6d4",
   "metadata": {},
   "outputs": [],
   "source": [
    "Q4. What are the values of the following expressions?\n",
    "\n",
    "                                                               ANS\n",
    "(5 > 4) and (3 == 5)                                          False\n",
    "not (5 > 4)                                                   False\n",
    "(5 > 4) or (3 == 5)                                           True\n",
    "not ((5 > 4) or (3 == 5))                                     False\n",
    "(True and True) and (True == False)                           False\n",
    "(not False) or (not True)                                     True"
   ]
  },
  {
   "cell_type": "code",
   "execution_count": null,
   "id": "c4f18eaf",
   "metadata": {},
   "outputs": [],
   "source": [
    "Q5. What are the six comparison operators?\n",
    "Ans :- Python has 6 comparision operators :\n",
    "        less than (<)\n",
    "        greater than(>)\n",
    "        greater than or equal to (>=)\n",
    "        less than or equal to (<=)\n",
    "        equal to (==)\n",
    "        not equal to (!=)"
   ]
  },
  {
   "cell_type": "code",
   "execution_count": null,
   "id": "e1244d73",
   "metadata": {},
   "outputs": [],
   "source": [
    "Q6. How do you tell the difference between the equal to and assignment operators? Describe a\n",
    "    condition and when you would use one.\n",
    "Ans :- The '=' is an assignment operator and is used to assign the value on the right to the variable on the left.  \n",
    "       The '==' operator checks whether the two given operands are equal or not. If so, it returns True. Otherwise, it returns \n",
    "       False.  "
   ]
  },
  {
   "cell_type": "code",
   "execution_count": null,
   "id": "3ef4aa9e",
   "metadata": {},
   "outputs": [],
   "source": [
    "Q7. Identify the three blocks in this code:\n",
    "spam = 0\n",
    "if spam == 10:\n",
    "print('eggs')\n",
    "if spam > 5:\n",
    "print('bacon')\n",
    "else:\n",
    "print('ham')\n",
    "print('spam')\n",
    "print('spam')\n",
    "\n",
    "Ans :-  block 1 :-  if spam == 10:\n",
    "                       print('eggs')\n",
    "         \n",
    "        block 2 :-  if spam > 5:\n",
    "                       print('bacon')\n",
    "                    \n",
    "        block 3 :-  else :\n",
    "                       print('ham')\n",
    "                       print('spam')\n",
    "                       print('spam')"
   ]
  },
  {
   "cell_type": "code",
   "execution_count": null,
   "id": "e35b7687",
   "metadata": {},
   "outputs": [],
   "source": [
    "Q8. Write code that prints Hello if 1 is stored in spam, prints Howdy if 2 is stored in spam, and prints\n",
    "    Greetings! if anything else is stored in spam.\n",
    "    \n",
    "Ans :-     "
   ]
  },
  {
   "cell_type": "code",
   "execution_count": 15,
   "id": "8f72cb65",
   "metadata": {},
   "outputs": [
    {
     "name": "stdout",
     "output_type": "stream",
     "text": [
      "Enter a value :- 5\n",
      "Greetings\n"
     ]
    }
   ],
   "source": [
    " spam = int(input('Enter a value :- '))\n",
    "if spam == 1 :\n",
    "    print('Hello')\n",
    "        \n",
    "elif spam == 2 :\n",
    "    print('Howdy')\n",
    "        \n",
    "else :\n",
    "    print('Greetings')"
   ]
  },
  {
   "cell_type": "code",
   "execution_count": null,
   "id": "25fbd906",
   "metadata": {},
   "outputs": [],
   "source": [
    "Q9. If your programme is stuck in an endless loop, what keys you’ll press?\n",
    "\n",
    "Ans :- An infinite loop occurs when a program keeps executing within one loop, never leaving it. To exit out of\n",
    "       infinite loops on the command line, we can press CTRL + C. "
   ]
  },
  {
   "cell_type": "code",
   "execution_count": null,
   "id": "2d0e0e4f",
   "metadata": {},
   "outputs": [],
   "source": [
    "Q10.  How can you tell the difference between break and continue?\n",
    "\n",
    "Ans :- \n",
    "       A break statement eliminates the execution of remaining iteration of loop whereas the continue statement will terminate \n",
    "       only the current iteration of the loop.\n",
    "    "
   ]
  },
  {
   "cell_type": "code",
   "execution_count": null,
   "id": "b2fb0692",
   "metadata": {},
   "outputs": [],
   "source": [
    "Q11. In a for loop, what is the difference between range(10), range(0, 10), and range(0, 10, 1)?\n",
    "\n",
    "Ans :- There is no difference."
   ]
  },
  {
   "cell_type": "code",
   "execution_count": null,
   "id": "ffb669fe",
   "metadata": {},
   "outputs": [],
   "source": [
    "Q12. Write a short program that prints the numbers 1 to 10 using a for loop. Then write an equivalent\n",
    "    program that prints the numbers 1 to 10 using a while loop.\n",
    "\n",
    "Ans :- "
   ]
  },
  {
   "cell_type": "code",
   "execution_count": 17,
   "id": "cac7bf5c",
   "metadata": {},
   "outputs": [
    {
     "name": "stdout",
     "output_type": "stream",
     "text": [
      "1\n",
      "2\n",
      "3\n",
      "4\n",
      "5\n",
      "6\n",
      "7\n",
      "8\n",
      "9\n",
      "10\n"
     ]
    }
   ],
   "source": [
    "for i in range(1,11):\n",
    "    print(i)"
   ]
  },
  {
   "cell_type": "code",
   "execution_count": null,
   "id": "73d3d5ef",
   "metadata": {},
   "outputs": [],
   "source": [
    "i = 1\n",
    "while (i<=10):\n",
    "    print(i)\n",
    "    i=i+1"
   ]
  },
  {
   "cell_type": "code",
   "execution_count": null,
   "id": "c64c4f14",
   "metadata": {},
   "outputs": [],
   "source": [
    "Q13. If you had a function named bacon() inside a module named spam, how would you call it after\n",
    "importing spam?\n",
    "\n",
    "Ans :- import spam\n",
    "       bacon()"
   ]
  }
 ],
 "metadata": {
  "kernelspec": {
   "display_name": "Python 3 (ipykernel)",
   "language": "python",
   "name": "python3"
  },
  "language_info": {
   "codemirror_mode": {
    "name": "ipython",
    "version": 3
   },
   "file_extension": ".py",
   "mimetype": "text/x-python",
   "name": "python",
   "nbconvert_exporter": "python",
   "pygments_lexer": "ipython3",
   "version": "3.9.7"
  }
 },
 "nbformat": 4,
 "nbformat_minor": 5
}
