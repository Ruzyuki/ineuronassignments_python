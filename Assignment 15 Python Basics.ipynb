{
 "cells": [
  {
   "cell_type": "code",
   "execution_count": null,
   "id": "b75fc7d6",
   "metadata": {},
   "outputs": [],
   "source": [
    "1.How many seconds are in an hour? Use the interactive interpreter as a calculator and multiply the\n",
    "number of seconds in a minute (60) by the number of minutes in an hour (also 60).\n",
    "ANS:- "
   ]
  },
  {
   "cell_type": "code",
   "execution_count": 40,
   "id": "393788bd",
   "metadata": {},
   "outputs": [
    {
     "data": {
      "text/plain": [
       "3600"
      ]
     },
     "execution_count": 40,
     "metadata": {},
     "output_type": "execute_result"
    }
   ],
   "source": [
    "60*60"
   ]
  },
  {
   "cell_type": "code",
   "execution_count": null,
   "id": "ff70f0cb",
   "metadata": {},
   "outputs": [],
   "source": [
    "2. Assign the result from the previous task (seconds in an hour) to a variable called\n",
    "seconds_per_hour.\n",
    "ANS:- "
   ]
  },
  {
   "cell_type": "code",
   "execution_count": 41,
   "id": "c2b52a99",
   "metadata": {},
   "outputs": [],
   "source": [
    "seconds_per_hour = 60*60"
   ]
  },
  {
   "cell_type": "code",
   "execution_count": 42,
   "id": "fb4bec3b",
   "metadata": {},
   "outputs": [
    {
     "data": {
      "text/plain": [
       "3600"
      ]
     },
     "execution_count": 42,
     "metadata": {},
     "output_type": "execute_result"
    }
   ],
   "source": [
    "seconds_per_hour"
   ]
  },
  {
   "cell_type": "code",
   "execution_count": null,
   "id": "07c1ef0f",
   "metadata": {},
   "outputs": [],
   "source": [
    "3. How many seconds do you think there are in a day? Make use of the variables seconds per hour\n",
    "and minutes per hour.\n",
    "ANS:- "
   ]
  },
  {
   "cell_type": "code",
   "execution_count": 43,
   "id": "7a2159fb",
   "metadata": {},
   "outputs": [
    {
     "data": {
      "text/plain": [
       "86400"
      ]
     },
     "execution_count": 43,
     "metadata": {},
     "output_type": "execute_result"
    }
   ],
   "source": [
    "one_day = 24\n",
    "seconds_in_a_day = 24*seconds_per_hour\n",
    "seconds_in_a_day "
   ]
  },
  {
   "cell_type": "code",
   "execution_count": null,
   "id": "56efe5ac",
   "metadata": {},
   "outputs": [],
   "source": [
    "4. Calculate seconds per day again, but this time save the result in a variable called seconds_per_day \n",
    "ANS:- "
   ]
  },
  {
   "cell_type": "code",
   "execution_count": 44,
   "id": "9531f4e9",
   "metadata": {},
   "outputs": [],
   "source": [
    "seconds_per_day = 24*seconds_per_hour"
   ]
  },
  {
   "cell_type": "code",
   "execution_count": 46,
   "id": "2b25bf9a",
   "metadata": {},
   "outputs": [
    {
     "data": {
      "text/plain": [
       "86400"
      ]
     },
     "execution_count": 46,
     "metadata": {},
     "output_type": "execute_result"
    }
   ],
   "source": [
    "  seconds_per_day"
   ]
  },
  {
   "cell_type": "code",
   "execution_count": null,
   "id": "8b79e57e",
   "metadata": {},
   "outputs": [],
   "source": [
    "5. Divide seconds_per_day by seconds_per_hour. Use floating-point (/) division. \n",
    "ANS:- "
   ]
  },
  {
   "cell_type": "code",
   "execution_count": 47,
   "id": "dbce02ad",
   "metadata": {},
   "outputs": [
    {
     "data": {
      "text/plain": [
       "24.0"
      ]
     },
     "execution_count": 47,
     "metadata": {},
     "output_type": "execute_result"
    }
   ],
   "source": [
    "seconds_per_day/seconds_per_hour"
   ]
  },
  {
   "cell_type": "code",
   "execution_count": null,
   "id": "ef90f7f2",
   "metadata": {},
   "outputs": [],
   "source": [
    "6. Divide seconds_per_day by seconds_per_hour, using integer (//) division. Did this number agree\n",
    "with the floating-point value from the previous question, aside from the final .0?\n",
    "ANS:- "
   ]
  },
  {
   "cell_type": "code",
   "execution_count": 48,
   "id": "e6f7dbfd",
   "metadata": {},
   "outputs": [
    {
     "data": {
      "text/plain": [
       "24"
      ]
     },
     "execution_count": 48,
     "metadata": {},
     "output_type": "execute_result"
    }
   ],
   "source": [
    "seconds_per_day//seconds_per_hour"
   ]
  },
  {
   "cell_type": "code",
   "execution_count": null,
   "id": "f7cb30de",
   "metadata": {},
   "outputs": [],
   "source": [
    "Yes this number agrees with the floating point value before."
   ]
  },
  {
   "cell_type": "code",
   "execution_count": null,
   "id": "50c6ba8f",
   "metadata": {},
   "outputs": [],
   "source": [
    "7. Write a generator, genPrimes, that returns the sequence of prime numbers on successive calls to\n",
    "its next() method: 2, 3, 5, 7, 11, ...\n",
    "ANS:- "
   ]
  },
  {
   "cell_type": "code",
   "execution_count": 49,
   "id": "04c085e7",
   "metadata": {},
   "outputs": [],
   "source": [
    "def genPrime():\n",
    "    n = 2\n",
    "    primes=[]\n",
    "    while True: \n",
    "        for i in primes:\n",
    "            if n%p == 0:\n",
    "                break\n",
    "            else:\n",
    "                primes.append(n)\n",
    "                yield n\n",
    "            n= n+1 \n",
    "             \n",
    "            "
   ]
  },
  {
   "cell_type": "code",
   "execution_count": null,
   "id": "2c121379",
   "metadata": {},
   "outputs": [],
   "source": []
  }
 ],
 "metadata": {
  "kernelspec": {
   "display_name": "Python 3 (ipykernel)",
   "language": "python",
   "name": "python3"
  },
  "language_info": {
   "codemirror_mode": {
    "name": "ipython",
    "version": 3
   },
   "file_extension": ".py",
   "mimetype": "text/x-python",
   "name": "python",
   "nbconvert_exporter": "python",
   "pygments_lexer": "ipython3",
   "version": "3.9.7"
  }
 },
 "nbformat": 4,
 "nbformat_minor": 5
}
